{
 "cells": [
  {
   "cell_type": "code",
   "execution_count": 21,
   "metadata": {},
   "outputs": [],
   "source": [
    "import requests\n",
    "from bs4 import BeautifulSoup\n",
    "from tqdm import tqdm\n",
    "import numpy as np\n",
    "import time\n",
    "import csv"
   ]
  },
  {
   "cell_type": "markdown",
   "metadata": {},
   "source": [
    "# use search page links to get the link for each individual's resume"
   ]
  },
  {
   "cell_type": "code",
   "execution_count": 2,
   "metadata": {},
   "outputs": [],
   "source": [
    "num_lst = []\n",
    "url_lst = ['https://www.postjobfree.com/resumes?q=&l=United+States&radius=25']\n",
    "string = 'https://www.postjobfree.com/resumes?q=&l=United+States&radius=25'\n",
    "for num in range(2, 1191):\n",
    "    url_lst.append('https://www.postjobfree.com/resumes?q=&l=United+States&radius=25&p='+str(num))\n"
   ]
  },
  {
   "cell_type": "code",
   "execution_count": 4,
   "metadata": {},
   "outputs": [
    {
     "name": "stderr",
     "output_type": "stream",
     "text": [
      "100%|████████████████████████████████████████████████████████████████████████████| 1190/1190 [1:06:03<00:00,  3.33s/it]\n"
     ]
    }
   ],
   "source": [
    "resume_links = []\n",
    "for link in tqdm(url_lst):\n",
    "    response = requests.get(link)\n",
    "    soup = BeautifulSoup(response.content, 'html.parser')\n",
    "    time.sleep(3)\n",
    "    for x in soup.find_all('h3', attrs={'class': 'itemTitle'}):\n",
    "        resume_links.append(\"https://www.postjobfree.com\"+x.a['href'])"
   ]
  },
  {
   "cell_type": "code",
   "execution_count": 17,
   "metadata": {},
   "outputs": [
    {
     "data": {
      "text/plain": [
       "11900"
      ]
     },
     "execution_count": 17,
     "metadata": {},
     "output_type": "execute_result"
    }
   ],
   "source": [
    "len(resume_links)"
   ]
  },
  {
   "cell_type": "code",
   "execution_count": 12,
   "metadata": {},
   "outputs": [],
   "source": [
    "results = []"
   ]
  },
  {
   "cell_type": "code",
   "execution_count": 18,
   "metadata": {},
   "outputs": [
    {
     "name": "stderr",
     "output_type": "stream",
     "text": [
      "100%|████████████████████████████████████████████████████████████████████████████| 8648/8648 [7:54:13<00:00,  3.29s/it]\n"
     ]
    }
   ],
   "source": [
    "for link in tqdm(resume_links[3252:]):\n",
    "    response = requests.get(link)\n",
    "    soup = BeautifulSoup(response.content, 'html.parser')\n",
    "    results.append({\n",
    "        'job_title': soup.find('div', attrs={'class': 'leftColumn'}).find('h1').get_text(),\n",
    "        'resume': soup.find('div', attrs={'class': 'normalText'}).get_text()[:-23]\n",
    "    })\n",
    "    time.sleep(3)"
   ]
  },
  {
   "cell_type": "raw",
   "metadata": {},
   "source": [
    "with open('../../data/website_resumes.csv', 'w') as csv_file:\n",
    "    writer = csv.DictWriter(csv_file, fieldnames=results[0].keys())\n",
    "    writer.writeheader()\n",
    "    for row in results:\n",
    "        writer.writerow(row)"
   ]
  },
  {
   "cell_type": "code",
   "execution_count": null,
   "metadata": {},
   "outputs": [],
   "source": []
  }
 ],
 "metadata": {
  "kernelspec": {
   "display_name": "Python 3",
   "language": "python",
   "name": "python3"
  },
  "language_info": {
   "codemirror_mode": {
    "name": "ipython",
    "version": 3
   },
   "file_extension": ".py",
   "mimetype": "text/x-python",
   "name": "python",
   "nbconvert_exporter": "python",
   "pygments_lexer": "ipython3",
   "version": "3.8.3"
  }
 },
 "nbformat": 4,
 "nbformat_minor": 5
}
