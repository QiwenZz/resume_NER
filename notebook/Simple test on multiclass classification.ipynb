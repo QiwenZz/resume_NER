{
 "cells": [
  {
   "cell_type": "markdown",
   "id": "699c8203",
   "metadata": {},
   "source": [
    "# Name, phone number, email, education, Skills, Work company name and duration"
   ]
  },
  {
   "cell_type": "markdown",
   "id": "6c4c0dd6",
   "metadata": {},
   "source": [
    "# try spacy"
   ]
  },
  {
   "cell_type": "code",
   "execution_count": 1,
   "id": "592ec4c1",
   "metadata": {},
   "outputs": [],
   "source": [
    "import spacy\n",
    "nlp = spacy.load(\"en_core_web_trf\")"
   ]
  },
  {
   "cell_type": "code",
   "execution_count": 19,
   "id": "33f001a6",
   "metadata": {},
   "outputs": [],
   "source": [
    "doc = nlp('9234@gmail.com')\n",
    "for ent in doc.ents:\n",
    "    print(ent.text, ent.start_char, ent.end_char, ent.label_)"
   ]
  },
  {
   "cell_type": "code",
   "execution_count": null,
   "id": "a7dd4848",
   "metadata": {},
   "outputs": [],
   "source": []
  },
  {
   "cell_type": "code",
   "execution_count": null,
   "id": "42a98778",
   "metadata": {},
   "outputs": [],
   "source": []
  }
 ],
 "metadata": {
  "kernelspec": {
   "display_name": "Python 3",
   "language": "python",
   "name": "python3"
  },
  "language_info": {
   "codemirror_mode": {
    "name": "ipython",
    "version": 3
   },
   "file_extension": ".py",
   "mimetype": "text/x-python",
   "name": "python",
   "nbconvert_exporter": "python",
   "pygments_lexer": "ipython3",
   "version": "3.8.8"
  }
 },
 "nbformat": 4,
 "nbformat_minor": 5
}
