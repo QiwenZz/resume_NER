{
 "cells": [
  {
   "cell_type": "code",
   "execution_count": 2,
   "metadata": {},
   "outputs": [],
   "source": [
    "import pandas as pd"
   ]
  },
  {
   "cell_type": "code",
   "execution_count": 11,
   "metadata": {},
   "outputs": [],
   "source": [
    "df_1 = pd.read_csv('../data/kaggle_resume_dataset.csv')"
   ]
  },
  {
   "cell_type": "code",
   "execution_count": 4,
   "metadata": {},
   "outputs": [],
   "source": [
    "df_2 = pd.read_csv('../data/website_resumes.csv')"
   ]
  },
  {
   "cell_type": "code",
   "execution_count": 9,
   "metadata": {},
   "outputs": [
    {
     "data": {
      "text/html": [
       "<div>\n",
       "<style scoped>\n",
       "    .dataframe tbody tr th:only-of-type {\n",
       "        vertical-align: middle;\n",
       "    }\n",
       "\n",
       "    .dataframe tbody tr th {\n",
       "        vertical-align: top;\n",
       "    }\n",
       "\n",
       "    .dataframe thead th {\n",
       "        text-align: right;\n",
       "    }\n",
       "</style>\n",
       "<table border=\"1\" class=\"dataframe\">\n",
       "  <thead>\n",
       "    <tr style=\"text-align: right;\">\n",
       "      <th></th>\n",
       "      <th>job_title</th>\n",
       "      <th>resume</th>\n",
       "    </tr>\n",
       "  </thead>\n",
       "  <tbody>\n",
       "    <tr>\n",
       "      <th>0</th>\n",
       "      <td>Sr. Android App Developer</td>\n",
       "      <td>\\r\\nGLENN WHITE\\r\\nPhone - 415-***-****\\r\\nEma...</td>\n",
       "    </tr>\n",
       "    <tr>\n",
       "      <th>1</th>\n",
       "      <td>Debt Collector Customer Service</td>\n",
       "      <td>\\r\\nTiana Hampton\\r\\nDebt Collector/ Customer ...</td>\n",
       "    </tr>\n",
       "    <tr>\n",
       "      <th>2</th>\n",
       "      <td>Market Analyst Research Fellow</td>\n",
       "      <td>\\r\\nDoug Kriegel\\r\\n**** ******* ******, *****...</td>\n",
       "    </tr>\n",
       "    <tr>\n",
       "      <th>3</th>\n",
       "      <td>Loan Specialist Gs</td>\n",
       "      <td>\\r\\nPrinted Date */**/**** *:** EST USAJOBS Co...</td>\n",
       "    </tr>\n",
       "    <tr>\n",
       "      <th>4</th>\n",
       "      <td>Customer Service Waitress</td>\n",
       "      <td>\\r\\nStephanie Brown\\r\\nLake Wales, FL *****\\r\\...</td>\n",
       "    </tr>\n",
       "    <tr>\n",
       "      <th>...</th>\n",
       "      <td>...</td>\n",
       "      <td>...</td>\n",
       "    </tr>\n",
       "    <tr>\n",
       "      <th>11894</th>\n",
       "      <td>Customer Service</td>\n",
       "      <td>\\r\\nDedre Vance\\r\\nHutchins\\r\\nadpw48@r.postjo...</td>\n",
       "    </tr>\n",
       "    <tr>\n",
       "      <th>11895</th>\n",
       "      <td>Graphic Designer Digital Marketing</td>\n",
       "      <td>\\r\\nLarita Harris\\r\\nI am looking for a full-t...</td>\n",
       "    </tr>\n",
       "    <tr>\n",
       "      <th>11896</th>\n",
       "      <td>Data Entry, Court Clerk, Administrative Assistant</td>\n",
       "      <td>\\r\\nArrolyn T. Wallace\\r\\n**** ** ***\\r\\nHoust...</td>\n",
       "    </tr>\n",
       "    <tr>\n",
       "      <th>11897</th>\n",
       "      <td>Machine Operator Cement</td>\n",
       "      <td>\\r\\nDAVID TONYOKWE\\r\\n*** ****** ****** ******...</td>\n",
       "    </tr>\n",
       "    <tr>\n",
       "      <th>11898</th>\n",
       "      <td>Package Handler,security guard,janitor/cleaner</td>\n",
       "      <td>\\r\\nMichael Yellets\\r\\nPittsburgh, PA\\r\\nadpw4...</td>\n",
       "    </tr>\n",
       "  </tbody>\n",
       "</table>\n",
       "<p>11899 rows × 2 columns</p>\n",
       "</div>"
      ],
      "text/plain": [
       "                                               job_title  \\\n",
       "0                              Sr. Android App Developer   \n",
       "1                        Debt Collector Customer Service   \n",
       "2                         Market Analyst Research Fellow   \n",
       "3                                     Loan Specialist Gs   \n",
       "4                              Customer Service Waitress   \n",
       "...                                                  ...   \n",
       "11894                                   Customer Service   \n",
       "11895                 Graphic Designer Digital Marketing   \n",
       "11896  Data Entry, Court Clerk, Administrative Assistant   \n",
       "11897                            Machine Operator Cement   \n",
       "11898     Package Handler,security guard,janitor/cleaner   \n",
       "\n",
       "                                                  resume  \n",
       "0      \\r\\nGLENN WHITE\\r\\nPhone - 415-***-****\\r\\nEma...  \n",
       "1      \\r\\nTiana Hampton\\r\\nDebt Collector/ Customer ...  \n",
       "2      \\r\\nDoug Kriegel\\r\\n**** ******* ******, *****...  \n",
       "3      \\r\\nPrinted Date */**/**** *:** EST USAJOBS Co...  \n",
       "4      \\r\\nStephanie Brown\\r\\nLake Wales, FL *****\\r\\...  \n",
       "...                                                  ...  \n",
       "11894  \\r\\nDedre Vance\\r\\nHutchins\\r\\nadpw48@r.postjo...  \n",
       "11895  \\r\\nLarita Harris\\r\\nI am looking for a full-t...  \n",
       "11896  \\r\\nArrolyn T. Wallace\\r\\n**** ** ***\\r\\nHoust...  \n",
       "11897  \\r\\nDAVID TONYOKWE\\r\\n*** ****** ****** ******...  \n",
       "11898  \\r\\nMichael Yellets\\r\\nPittsburgh, PA\\r\\nadpw4...  \n",
       "\n",
       "[11899 rows x 2 columns]"
      ]
     },
     "execution_count": 9,
     "metadata": {},
     "output_type": "execute_result"
    }
   ],
   "source": [
    "df_2"
   ]
  },
  {
   "cell_type": "code",
   "execution_count": 28,
   "metadata": {},
   "outputs": [
    {
     "name": "stdout",
     "output_type": "stream",
     "text": [
      "Skills * Programming Languages: Python (pandas, numpy, scipy, scikit-learn, matplotlib), Sql, Java, JavaScript/JQuery. * Machine learning: Regression, SVM, NaÃ¯ve Bayes, KNN, Random Forest, Decision Trees, Boosting techniques, Cluster Analysis, Word Embedding, Sentiment Analysis, Natural Language processing, Dimensionality reduction, Topic Modelling (LDA, NMF), PCA & Neural Nets. * Database Visualizations: Mysql, SqlServer, Cassandra, Hbase, ElasticSearch D3.js, DC.js, Plotly, kibana, matplotlib, ggplot, Tableau. * Others: Regular Expression, HTML, CSS, Angular 6, Logstash, Kafka, Python Flask, Git, Docker, computer vision - Open CV and understanding of Deep learning.Education Details \r\n",
      "\r\n",
      "Data Science Assurance Associate \r\n",
      "\r\n",
      "Data Science Assurance Associate - Ernst & Young LLP\r\n",
      "Skill Details \r\n",
      "JAVASCRIPT- Exprience - 24 months\r\n",
      "jQuery- Exprience - 24 months\r\n",
      "Python- Exprience - 24 monthsCompany Details \r\n",
      "company - Ernst & Young LLP\r\n",
      "description - Fraud Investigations and Dispute Services   Assurance\r\n",
      "TECHNOLOGY ASSISTED REVIEW\r\n",
      "TAR (Technology Assisted Review) assists in accelerating the review process and run analytics and generate reports.\r\n",
      "* Core member of a team helped in developing automated review platform tool from scratch for assisting E discovery domain, this tool implements predictive coding and topic modelling by automating reviews, resulting in reduced labor costs and time spent during the lawyers review.\r\n",
      "* Understand the end to end flow of the solution, doing research and development for classification models, predictive analysis and mining of the information present in text data. Worked on analyzing the outputs and precision monitoring for the entire tool.\r\n",
      "* TAR assists in predictive coding, topic modelling from the evidence by following EY standards. Developed the classifier models in order to identify \"red flags\" and fraud-related issues.\r\n",
      "\r\n",
      "Tools & Technologies: Python, scikit-learn, tfidf, word2vec, doc2vec, cosine similarity, NaÃ¯ve Bayes, LDA, NMF for topic modelling, Vader and text blob for sentiment analysis. Matplot lib, Tableau dashboard for reporting.\r\n",
      "\r\n",
      "MULTIPLE DATA SCIENCE AND ANALYTIC PROJECTS (USA CLIENTS)\r\n",
      "TEXT ANALYTICS - MOTOR VEHICLE CUSTOMER REVIEW DATA * Received customer feedback survey data for past one year. Performed sentiment (Positive, Negative & Neutral) and time series analysis on customer comments across all 4 categories.\r\n",
      "* Created heat map of terms by survey category based on frequency of words * Extracted Positive and Negative words across all the Survey categories and plotted Word cloud.\r\n",
      "* Created customized tableau dashboards for effective reporting and visualizations.\r\n",
      "CHATBOT * Developed a user friendly chatbot for one of our Products which handle simple questions about hours of operation, reservation options and so on.\r\n",
      "* This chat bot serves entire product related questions. Giving overview of tool via QA platform and also give recommendation responses so that user question to build chain of relevant answer.\r\n",
      "* This too has intelligence to build the pipeline of questions as per user requirement and asks the relevant /recommended questions.\r\n",
      "\r\n",
      "Tools & Technologies: Python, Natural language processing, NLTK, spacy, topic modelling, Sentiment analysis, Word Embedding, scikit-learn, JavaScript/JQuery, SqlServer\r\n",
      "\r\n",
      "INFORMATION GOVERNANCE\r\n",
      "Organizations to make informed decisions about all of the information they store. The integrated Information Governance portfolio synthesizes intelligence across unstructured data sources and facilitates action to ensure organizations are best positioned to counter information risk.\r\n",
      "* Scan data from multiple sources of formats and parse different file formats, extract Meta data information, push results for indexing elastic search and created customized, interactive dashboards using kibana.\r\n",
      "* Preforming ROT Analysis on the data which give information of data which helps identify content that is either Redundant, Outdated, or Trivial.\r\n",
      "* Preforming full-text search analysis on elastic search with predefined methods which can tag as (PII) personally identifiable information (social security numbers, addresses, names, etc.) which frequently targeted during cyber-attacks.\r\n",
      "Tools & Technologies: Python, Flask, Elastic Search, Kibana\r\n",
      "\r\n",
      "FRAUD ANALYTIC PLATFORM\r\n",
      "Fraud Analytics and investigative platform to review all red flag cases.\r\n",
      "â¢ FAP is a Fraud Analytics and investigative platform with inbuilt case manager and suite of Analytics for various ERP systems.\r\n",
      "* It can be used by clients to interrogate their Accounting systems for identifying the anomalies which can be indicators of fraud by running advanced analytics\r\n",
      "Tools & Technologies: HTML, JavaScript, SqlServer, JQuery, CSS, Bootstrap, Node.js, D3.js, DC.js\n"
     ]
    }
   ],
   "source": [
    "print(df_1['Resume'][10])"
   ]
  }
 ],
 "metadata": {
  "kernelspec": {
   "display_name": "Python 3",
   "language": "python",
   "name": "python3"
  },
  "language_info": {
   "codemirror_mode": {
    "name": "ipython",
    "version": 3
   },
   "file_extension": ".py",
   "mimetype": "text/x-python",
   "name": "python",
   "nbconvert_exporter": "python",
   "pygments_lexer": "ipython3",
   "version": "3.8.3"
  }
 },
 "nbformat": 4,
 "nbformat_minor": 5
}
