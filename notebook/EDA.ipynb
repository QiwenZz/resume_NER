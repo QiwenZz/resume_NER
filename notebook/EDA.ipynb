{
 "cells": [
  {
   "cell_type": "code",
   "execution_count": 2,
   "metadata": {},
   "outputs": [],
   "source": [
    "import pandas as pd"
   ]
  },
  {
   "cell_type": "code",
   "execution_count": 11,
   "metadata": {},
   "outputs": [],
   "source": [
    "df_1 = pd.read_csv('../data/kaggle_resume_dataset.csv')"
   ]
  },
  {
   "cell_type": "code",
   "execution_count": 4,
   "metadata": {},
   "outputs": [],
   "source": [
    "df_2 = pd.read_csv('../data/website_resumes.csv')"
   ]
  },
  {
   "cell_type": "code",
   "execution_count": 9,
   "metadata": {},
   "outputs": [
    {
     "data": {
      "text/html": [
       "<div>\n",
       "<style scoped>\n",
       "    .dataframe tbody tr th:only-of-type {\n",
       "        vertical-align: middle;\n",
       "    }\n",
       "\n",
       "    .dataframe tbody tr th {\n",
       "        vertical-align: top;\n",
       "    }\n",
       "\n",
       "    .dataframe thead th {\n",
       "        text-align: right;\n",
       "    }\n",
       "</style>\n",
       "<table border=\"1\" class=\"dataframe\">\n",
       "  <thead>\n",
       "    <tr style=\"text-align: right;\">\n",
       "      <th></th>\n",
       "      <th>job_title</th>\n",
       "      <th>resume</th>\n",
       "    </tr>\n",
       "  </thead>\n",
       "  <tbody>\n",
       "    <tr>\n",
       "      <th>0</th>\n",
       "      <td>Sr. Android App Developer</td>\n",
       "      <td>\\r\\nGLENN WHITE\\r\\nPhone - 415-***-****\\r\\nEma...</td>\n",
       "    </tr>\n",
       "    <tr>\n",
       "      <th>1</th>\n",
       "      <td>Debt Collector Customer Service</td>\n",
       "      <td>\\r\\nTiana Hampton\\r\\nDebt Collector/ Customer ...</td>\n",
       "    </tr>\n",
       "    <tr>\n",
       "      <th>2</th>\n",
       "      <td>Market Analyst Research Fellow</td>\n",
       "      <td>\\r\\nDoug Kriegel\\r\\n**** ******* ******, *****...</td>\n",
       "    </tr>\n",
       "    <tr>\n",
       "      <th>3</th>\n",
       "      <td>Loan Specialist Gs</td>\n",
       "      <td>\\r\\nPrinted Date */**/**** *:** EST USAJOBS Co...</td>\n",
       "    </tr>\n",
       "    <tr>\n",
       "      <th>4</th>\n",
       "      <td>Customer Service Waitress</td>\n",
       "      <td>\\r\\nStephanie Brown\\r\\nLake Wales, FL *****\\r\\...</td>\n",
       "    </tr>\n",
       "    <tr>\n",
       "      <th>...</th>\n",
       "      <td>...</td>\n",
       "      <td>...</td>\n",
       "    </tr>\n",
       "    <tr>\n",
       "      <th>11894</th>\n",
       "      <td>Customer Service</td>\n",
       "      <td>\\r\\nDedre Vance\\r\\nHutchins\\r\\nadpw48@r.postjo...</td>\n",
       "    </tr>\n",
       "    <tr>\n",
       "      <th>11895</th>\n",
       "      <td>Graphic Designer Digital Marketing</td>\n",
       "      <td>\\r\\nLarita Harris\\r\\nI am looking for a full-t...</td>\n",
       "    </tr>\n",
       "    <tr>\n",
       "      <th>11896</th>\n",
       "      <td>Data Entry, Court Clerk, Administrative Assistant</td>\n",
       "      <td>\\r\\nArrolyn T. Wallace\\r\\n**** ** ***\\r\\nHoust...</td>\n",
       "    </tr>\n",
       "    <tr>\n",
       "      <th>11897</th>\n",
       "      <td>Machine Operator Cement</td>\n",
       "      <td>\\r\\nDAVID TONYOKWE\\r\\n*** ****** ****** ******...</td>\n",
       "    </tr>\n",
       "    <tr>\n",
       "      <th>11898</th>\n",
       "      <td>Package Handler,security guard,janitor/cleaner</td>\n",
       "      <td>\\r\\nMichael Yellets\\r\\nPittsburgh, PA\\r\\nadpw4...</td>\n",
       "    </tr>\n",
       "  </tbody>\n",
       "</table>\n",
       "<p>11899 rows × 2 columns</p>\n",
       "</div>"
      ],
      "text/plain": [
       "                                               job_title  \\\n",
       "0                              Sr. Android App Developer   \n",
       "1                        Debt Collector Customer Service   \n",
       "2                         Market Analyst Research Fellow   \n",
       "3                                     Loan Specialist Gs   \n",
       "4                              Customer Service Waitress   \n",
       "...                                                  ...   \n",
       "11894                                   Customer Service   \n",
       "11895                 Graphic Designer Digital Marketing   \n",
       "11896  Data Entry, Court Clerk, Administrative Assistant   \n",
       "11897                            Machine Operator Cement   \n",
       "11898     Package Handler,security guard,janitor/cleaner   \n",
       "\n",
       "                                                  resume  \n",
       "0      \\r\\nGLENN WHITE\\r\\nPhone - 415-***-****\\r\\nEma...  \n",
       "1      \\r\\nTiana Hampton\\r\\nDebt Collector/ Customer ...  \n",
       "2      \\r\\nDoug Kriegel\\r\\n**** ******* ******, *****...  \n",
       "3      \\r\\nPrinted Date */**/**** *:** EST USAJOBS Co...  \n",
       "4      \\r\\nStephanie Brown\\r\\nLake Wales, FL *****\\r\\...  \n",
       "...                                                  ...  \n",
       "11894  \\r\\nDedre Vance\\r\\nHutchins\\r\\nadpw48@r.postjo...  \n",
       "11895  \\r\\nLarita Harris\\r\\nI am looking for a full-t...  \n",
       "11896  \\r\\nArrolyn T. Wallace\\r\\n**** ** ***\\r\\nHoust...  \n",
       "11897  \\r\\nDAVID TONYOKWE\\r\\n*** ****** ****** ******...  \n",
       "11898  \\r\\nMichael Yellets\\r\\nPittsburgh, PA\\r\\nadpw4...  \n",
       "\n",
       "[11899 rows x 2 columns]"
      ]
     },
     "execution_count": 9,
     "metadata": {},
     "output_type": "execute_result"
    }
   ],
   "source": [
    "df_2"
   ]
  },
  {
   "cell_type": "code",
   "execution_count": 15,
   "metadata": {},
   "outputs": [
    {
     "name": "stdout",
     "output_type": "stream",
     "text": [
      "Education Details \r\n",
      "May 2013 to May 2017 B.E   UIT-RGPV\r\n",
      "Data Scientist \r\n",
      "\r\n",
      "Data Scientist - Matelabs\r\n",
      "Skill Details \r\n",
      "Python- Exprience - Less than 1 year months\r\n",
      "Statsmodels- Exprience - 12 months\r\n",
      "AWS- Exprience - Less than 1 year months\r\n",
      "Machine learning- Exprience - Less than 1 year months\r\n",
      "Sklearn- Exprience - Less than 1 year months\r\n",
      "Scipy- Exprience - Less than 1 year months\r\n",
      "Keras- Exprience - Less than 1 year monthsCompany Details \r\n",
      "company - Matelabs\r\n",
      "description - ML Platform for business professionals, dummies and enthusiasts.\r\n",
      "60/A Koramangala 5th block,\r\n",
      "Achievements/Tasks behind sukh sagar, Bengaluru,\r\n",
      "India                               Developed and deployed auto preprocessing steps of machine learning mainly missing value\r\n",
      "treatment, outlier detection, encoding, scaling, feature selection and dimensionality reduction.\r\n",
      "Deployed automated classification and regression model.\r\n",
      "linkedin.com/in/aditya-rathore-\r\n",
      "b4600b146                           Reasearch and deployed the time series forecasting model ARIMA, SARIMAX, Holt-winter and\r\n",
      "Prophet.\r\n",
      "Worked on meta-feature extracting problem.\r\n",
      "github.com/rathorology\r\n",
      "Implemented a state of the art research paper on outlier detection for mixed attributes.\r\n",
      "company - Matelabs\r\n",
      "description - \n"
     ]
    }
   ],
   "source": [
    "print(df_1['Resume'][1])"
   ]
  }
 ],
 "metadata": {
  "kernelspec": {
   "display_name": "Python 3",
   "language": "python",
   "name": "python3"
  },
  "language_info": {
   "codemirror_mode": {
    "name": "ipython",
    "version": 3
   },
   "file_extension": ".py",
   "mimetype": "text/x-python",
   "name": "python",
   "nbconvert_exporter": "python",
   "pygments_lexer": "ipython3",
   "version": "3.8.3"
  }
 },
 "nbformat": 4,
 "nbformat_minor": 5
}
