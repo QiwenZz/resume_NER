{
 "cells": [
  {
   "cell_type": "code",
   "execution_count": 12,
   "metadata": {},
   "outputs": [
    {
     "name": "stderr",
     "output_type": "stream",
     "text": [
      "[nltk_data] Downloading package stopwords to\n",
      "[nltk_data]     C:\\Users\\Owen\\AppData\\Roaming\\nltk_data...\n",
      "[nltk_data]   Unzipping corpora\\stopwords.zip.\n",
      "[nltk_data] Downloading package punkt to\n",
      "[nltk_data]     C:\\Users\\Owen\\AppData\\Roaming\\nltk_data...\n",
      "[nltk_data]   Package punkt is already up-to-date!\n",
      "[nltk_data] Downloading package vader_lexicon to\n",
      "[nltk_data]     C:\\Users\\Owen\\AppData\\Roaming\\nltk_data...\n",
      "[nltk_data]   Package vader_lexicon is already up-to-date!\n"
     ]
    }
   ],
   "source": [
    "#import packages\n",
    "import pandas as pd\n",
    "import numpy as np\n",
    "import sys\n",
    "import csv\n",
    "import re\n",
    "import seaborn as sns\n",
    "import string\n",
    "from tqdm import tqdm\n",
    "#import natural language toolkit\n",
    "import nltk\n",
    "tqdm.pandas()\n",
    "\n",
    "# download stopwords & punkt\n",
    "nltk.download('stopwords')\n",
    "nltk.download('punkt')\n",
    "nltk.downloader.download('vader_lexicon')\n",
    "\n",
    "#standardize plot size and font size\n",
    "import matplotlib.pyplot as plt\n",
    "plt.rcParams['figure.figsize'] = (17, 7)\n",
    "plt.rcParams.update({'font.size': 14})\n",
    "\n",
    "#import natural language processing related functions \n",
    "from nltk import word_tokenize, sent_tokenize\n",
    "from nltk.corpus import stopwords\n",
    "from nltk.stem import LancasterStemmer, WordNetLemmatizer, PorterStemmer\n",
    "from nltk.probability import FreqDist\n",
    "from wordcloud import WordCloud, STOPWORDS\n",
    "from textblob import TextBlob\n",
    "from nltk.sentiment.vader import SentimentIntensityAnalyzer \n",
    "\n"
   ]
  },
  {
   "cell_type": "markdown",
   "metadata": {},
   "source": [
    "# Data Cleaning"
   ]
  },
  {
   "cell_type": "code",
   "execution_count": 15,
   "metadata": {},
   "outputs": [],
   "source": [
    "df = pd.read_csv('../data/full_dataset.csv')\n",
    "df.drop(columns=['Unnamed: 0'], inplace=True)\n",
    "df = df.drop_duplicates()"
   ]
  },
  {
   "cell_type": "code",
   "execution_count": 16,
   "metadata": {},
   "outputs": [
    {
     "data": {
      "text/html": [
       "<div>\n",
       "<style scoped>\n",
       "    .dataframe tbody tr th:only-of-type {\n",
       "        vertical-align: middle;\n",
       "    }\n",
       "\n",
       "    .dataframe tbody tr th {\n",
       "        vertical-align: top;\n",
       "    }\n",
       "\n",
       "    .dataframe thead th {\n",
       "        text-align: right;\n",
       "    }\n",
       "</style>\n",
       "<table border=\"1\" class=\"dataframe\">\n",
       "  <thead>\n",
       "    <tr style=\"text-align: right;\">\n",
       "      <th></th>\n",
       "      <th>category</th>\n",
       "      <th>resume</th>\n",
       "      <th>job_title</th>\n",
       "    </tr>\n",
       "  </thead>\n",
       "  <tbody>\n",
       "    <tr>\n",
       "      <th>0</th>\n",
       "      <td>data science</td>\n",
       "      <td>Skills * Programming Languages: Python (pandas...</td>\n",
       "      <td>NaN</td>\n",
       "    </tr>\n",
       "    <tr>\n",
       "      <th>1</th>\n",
       "      <td>data science</td>\n",
       "      <td>Education Details \\r\\nMay 2013 to May 2017 B.E...</td>\n",
       "      <td>NaN</td>\n",
       "    </tr>\n",
       "    <tr>\n",
       "      <th>2</th>\n",
       "      <td>data science</td>\n",
       "      <td>Areas of Interest Deep Learning, Control Syste...</td>\n",
       "      <td>NaN</td>\n",
       "    </tr>\n",
       "    <tr>\n",
       "      <th>3</th>\n",
       "      <td>data science</td>\n",
       "      <td>Skills â¢ R â¢ Python â¢ SAP HANA â¢ Table...</td>\n",
       "      <td>NaN</td>\n",
       "    </tr>\n",
       "    <tr>\n",
       "      <th>4</th>\n",
       "      <td>data science</td>\n",
       "      <td>Education Details \\r\\n MCA   YMCAUST,  Faridab...</td>\n",
       "      <td>NaN</td>\n",
       "    </tr>\n",
       "    <tr>\n",
       "      <th>...</th>\n",
       "      <td>...</td>\n",
       "      <td>...</td>\n",
       "      <td>...</td>\n",
       "    </tr>\n",
       "    <tr>\n",
       "      <th>3953</th>\n",
       "      <td>automobile</td>\n",
       "      <td>GENERAL LIABILITY CLAIM REPRESENTATIVE\\r\\nSumm...</td>\n",
       "      <td>NaN</td>\n",
       "    </tr>\n",
       "    <tr>\n",
       "      <th>3954</th>\n",
       "      <td>automobile</td>\n",
       "      <td>AUTOMOBILE TRANSPORTER\\r\\nProfessional Summary...</td>\n",
       "      <td>NaN</td>\n",
       "    </tr>\n",
       "    <tr>\n",
       "      <th>3955</th>\n",
       "      <td>automobile</td>\n",
       "      <td>Highlights\\r\\n\\r\\nProg. Languages: C (5+ yrs),...</td>\n",
       "      <td>NaN</td>\n",
       "    </tr>\n",
       "    <tr>\n",
       "      <th>3956</th>\n",
       "      <td>automobile</td>\n",
       "      <td>CUSTOMER RELATIONS SPECIALIST\\r\\nSummary\\r\\n\\r...</td>\n",
       "      <td>NaN</td>\n",
       "    </tr>\n",
       "    <tr>\n",
       "      <th>3957</th>\n",
       "      <td>automobile</td>\n",
       "      <td>SENIOR SPECIAL INVESTIGATOR\\r\\nSummary\\r\\n\\r\\n...</td>\n",
       "      <td>NaN</td>\n",
       "    </tr>\n",
       "  </tbody>\n",
       "</table>\n",
       "<p>3148 rows × 3 columns</p>\n",
       "</div>"
      ],
      "text/plain": [
       "          category                                             resume  \\\n",
       "0     data science  Skills * Programming Languages: Python (pandas...   \n",
       "1     data science  Education Details \\r\\nMay 2013 to May 2017 B.E...   \n",
       "2     data science  Areas of Interest Deep Learning, Control Syste...   \n",
       "3     data science  Skills â¢ R â¢ Python â¢ SAP HANA â¢ Table...   \n",
       "4     data science  Education Details \\r\\n MCA   YMCAUST,  Faridab...   \n",
       "...            ...                                                ...   \n",
       "3953    automobile  GENERAL LIABILITY CLAIM REPRESENTATIVE\\r\\nSumm...   \n",
       "3954    automobile  AUTOMOBILE TRANSPORTER\\r\\nProfessional Summary...   \n",
       "3955    automobile  Highlights\\r\\n\\r\\nProg. Languages: C (5+ yrs),...   \n",
       "3956    automobile  CUSTOMER RELATIONS SPECIALIST\\r\\nSummary\\r\\n\\r...   \n",
       "3957    automobile  SENIOR SPECIAL INVESTIGATOR\\r\\nSummary\\r\\n\\r\\n...   \n",
       "\n",
       "     job_title  \n",
       "0          NaN  \n",
       "1          NaN  \n",
       "2          NaN  \n",
       "3          NaN  \n",
       "4          NaN  \n",
       "...        ...  \n",
       "3953       NaN  \n",
       "3954       NaN  \n",
       "3955       NaN  \n",
       "3956       NaN  \n",
       "3957       NaN  \n",
       "\n",
       "[3148 rows x 3 columns]"
      ]
     },
     "execution_count": 16,
     "metadata": {},
     "output_type": "execute_result"
    }
   ],
   "source": [
    "df = df.drop_duplicates()"
   ]
  },
  {
   "cell_type": "code",
   "execution_count": 22,
   "metadata": {},
   "outputs": [
    {
     "data": {
      "text/plain": [
       "(array([ 0,  1,  2,  3,  4,  5,  6,  7,  8,  9, 10, 11, 12, 13, 14]),\n",
       " [Text(0, 0, 'sales'),\n",
       "  Text(1, 0, 'hr'),\n",
       "  Text(2, 0, 'arts'),\n",
       "  Text(3, 0, 'advocate'),\n",
       "  Text(4, 0, 'information-technology'),\n",
       "  Text(5, 0, 'business-development'),\n",
       "  Text(6, 0, 'chef'),\n",
       "  Text(7, 0, 'engineering'),\n",
       "  Text(8, 0, 'finance'),\n",
       "  Text(9, 0, 'accountant'),\n",
       "  Text(10, 0, 'aviation'),\n",
       "  Text(11, 0, 'fitness'),\n",
       "  Text(12, 0, 'healthcare'),\n",
       "  Text(13, 0, 'banking'),\n",
       "  Text(14, 0, 'consultant')])"
      ]
     },
     "execution_count": 22,
     "metadata": {},
     "output_type": "execute_result"
    },
    {
     "data": {
      "image/png": "[encoded data removed]",
      "text/plain": [
       "<Figure size 1224x504 with 1 Axes>"
      ]
     },
     "metadata": {
      "needs_background": "light"
     },
     "output_type": "display_data"
    }
   ],
   "source": [
    "df['category'].value_counts()[:15].plot.bar()\n",
    "plt.title('Resume value counts by category')\n",
    "plt.xticks(rotation=45)"
   ]
  },
  {
   "cell_type": "markdown",
   "metadata": {},
   "source": [
    "### Word Frequency"
   ]
  },
  {
   "cell_type": "code",
   "execution_count": 36,
   "metadata": {},
   "outputs": [
    {
     "name": "stderr",
     "output_type": "stream",
     "text": [
      "<ipython-input-36-b1e01f1134be>:2: SettingWithCopyWarning: \n",
      "A value is trying to be set on a copy of a slice from a DataFrame.\n",
      "Try using .loc[row_indexer,col_indexer] = value instead\n",
      "\n",
      "See the caveats in the documentation: https://pandas.pydata.org/pandas-docs/stable/user_guide/indexing.html#returning-a-view-versus-a-copy\n",
      "  df['resume'] = df['resume'].apply(lambda x: \" \".join(x.lower() for x in x.split()))\n",
      "<ipython-input-36-b1e01f1134be>:5: FutureWarning: The default value of regex will change from True to False in a future version.\n",
      "  df['resume'] = df['resume'].str.replace(r\"[^a-zA-Z\\d\\_\\s]\", \"\")\n",
      "<ipython-input-36-b1e01f1134be>:5: SettingWithCopyWarning: \n",
      "A value is trying to be set on a copy of a slice from a DataFrame.\n",
      "Try using .loc[row_indexer,col_indexer] = value instead\n",
      "\n",
      "See the caveats in the documentation: https://pandas.pydata.org/pandas-docs/stable/user_guide/indexing.html#returning-a-view-versus-a-copy\n",
      "  df['resume'] = df['resume'].str.replace(r\"[^a-zA-Z\\d\\_\\s]\", \"\")\n"
     ]
    }
   ],
   "source": [
    "#lower case all words\n",
    "df['resume'] = df['resume'].apply(lambda x: \" \".join(x.lower() for x in x.split()))\n",
    "\n",
    "#remove special characters in content\n",
    "df['resume'] = df['resume'].str.replace(r\"[^a-zA-Z\\d\\_\\s]\", \"\")\n",
    "\n",
    "#tokenize words \n",
    "tokenized = df.assign(tokenized_content = df['resume'].apply(nltk.word_tokenize))\n",
    "\n",
    "# import stop words\n",
    "from nltk.corpus import stopwords\n",
    "stop_words = set(stopwords.words('english'))\n",
    "\n",
    "#filter out stopwords in the content column\n",
    "tokenized['tokenized_content'] = tokenized['tokenized_content'].apply(lambda x: [item for item in x if item not in stop_words] )\n",
    "\n",
    "#Reducing all words into their root words\n",
    "from nltk.stem import PorterStemmer\n",
    "ps = PorterStemmer()\n",
    "tokenized['tokenized_content'] = tokenized['tokenized_content'].apply(lambda x: [ps.stem(y) for y in x])\n",
    "\n",
    "#Stack up words appeared in the tokenized content column\n",
    "most_1 = np.hstack(tokenized['tokenized_content'])"
   ]
  },
  {
   "cell_type": "code",
   "execution_count": 39,
   "metadata": {},
   "outputs": [],
   "source": [
    "most_1 = np.hstack(tokenized['tokenized_content'])"
   ]
  },
  {
   "cell_type": "code",
   "execution_count": 40,
   "metadata": {},
   "outputs": [
    {
     "data": {
      "image/png": "[encoded data removed]",
      "text/plain": [
       "<Figure size 1224x504 with 1 Axes>"
      ]
     },
     "metadata": {
      "needs_background": "light"
     },
     "output_type": "display_data"
    },
    {
     "data": {
      "text/plain": [
       "<AxesSubplot:xlabel='Samples', ylabel='Counts'>"
      ]
     },
     "execution_count": 40,
     "metadata": {},
     "output_type": "execute_result"
    }
   ],
   "source": [
    "# calculate word frequency\n",
    "fdist_most = FreqDist(most_1)\n",
    "\n",
    "for punc in list(string.punctuation)+['``',\"''\",\"'s\", \"“\", \"”\", \"’\", \"--\"]:\n",
    "    del fdist_most[punc]\n",
    "\n",
    "#plot 30 most frequent words appeared in media articles\n",
    "fdist_most.plot(30, cumulative=False)\n"
   ]
  },
  {
   "cell_type": "markdown",
   "metadata": {},
   "source": [
    "# ner using spacy"
   ]
  },
  {
   "cell_type": "code",
   "execution_count": 77,
   "metadata": {},
   "outputs": [],
   "source": [
    "import spacy\n",
    "from spacy import displacy\n",
    "\n",
    "ner = spacy.load(\"en_core_web_lg\")"
   ]
  },
  {
   "cell_type": "code",
   "execution_count": 58,
   "metadata": {},
   "outputs": [],
   "source": [
    "# reimport the df\n",
    "df = pd.read_csv('../data/full_dataset.csv')\n",
    "df.drop(columns=['Unnamed: 0'], inplace=True)\n",
    "df = df.drop_duplicates()"
   ]
  },
  {
   "cell_type": "code",
   "execution_count": 126,
   "metadata": {
    "scrolled": true
   },
   "outputs": [
    {
     "name": "stdout",
     "output_type": "stream",
     "text": [
      "Control System Design ORG\n",
      "Electric Machinery ORG\n",
      "Hindustan Aeronautics Limited ORG\n",
      "Bangalore GPE\n",
      "4 weeks DATE\n",
      "Satish PERSON\n",
      "Mirage ORG\n",
      "Python ORG\n",
      "Java ORG\n",
      "LabView ORG\n",
      "Python ORG\n",
      "Flask FAC\n",
      "Github PERSON\n",
      "Jupyter Notebook PERSON\n",
      "Xampp ORG\n",
      "MySQL-Basics ORG\n",
      "Pycharm ORG\n",
      "Java IDE-Eclipse Operating Systems Windows ORG\n",
      "Debian-Kali PERSON\n"
     ]
    }
   ],
   "source": [
    "text1 = ner(df['splitted_w_next_line'].iloc[2][0])\n",
    "for word in text1.ents:\n",
    "    print(word.text, word.label_)"
   ]
  },
  {
   "cell_type": "code",
   "execution_count": 73,
   "metadata": {},
   "outputs": [
    {
     "data": {
      "text/html": [
       "<div>\n",
       "<style scoped>\n",
       "    .dataframe tbody tr th:only-of-type {\n",
       "        vertical-align: middle;\n",
       "    }\n",
       "\n",
       "    .dataframe tbody tr th {\n",
       "        vertical-align: top;\n",
       "    }\n",
       "\n",
       "    .dataframe thead th {\n",
       "        text-align: right;\n",
       "    }\n",
       "</style>\n",
       "<table border=\"1\" class=\"dataframe\">\n",
       "  <thead>\n",
       "    <tr style=\"text-align: right;\">\n",
       "      <th></th>\n",
       "      <th>category</th>\n",
       "      <th>resume</th>\n",
       "      <th>job_title</th>\n",
       "      <th>splitted_w_next_line</th>\n",
       "    </tr>\n",
       "  </thead>\n",
       "  <tbody>\n",
       "    <tr>\n",
       "      <th>0</th>\n",
       "      <td>data science</td>\n",
       "      <td>Skills * Programming Languages: Python (pandas...</td>\n",
       "      <td>NaN</td>\n",
       "      <td>[Skills * Programming Languages: Python (panda...</td>\n",
       "    </tr>\n",
       "    <tr>\n",
       "      <th>1</th>\n",
       "      <td>data science</td>\n",
       "      <td>Education Details \\r\\nMay 2013 to May 2017 B.E...</td>\n",
       "      <td>NaN</td>\n",
       "      <td>[Education Details , May 2013 to May 2017 B.E ...</td>\n",
       "    </tr>\n",
       "    <tr>\n",
       "      <th>2</th>\n",
       "      <td>data science</td>\n",
       "      <td>Areas of Interest Deep Learning, Control Syste...</td>\n",
       "      <td>NaN</td>\n",
       "      <td>[Areas of Interest Deep Learning, Control Syst...</td>\n",
       "    </tr>\n",
       "    <tr>\n",
       "      <th>3</th>\n",
       "      <td>data science</td>\n",
       "      <td>Skills â¢ R â¢ Python â¢ SAP HANA â¢ Table...</td>\n",
       "      <td>NaN</td>\n",
       "      <td>[Skills â¢ R â¢ Python â¢ SAP HANA â¢ Tabl...</td>\n",
       "    </tr>\n",
       "    <tr>\n",
       "      <th>4</th>\n",
       "      <td>data science</td>\n",
       "      <td>Education Details \\r\\n MCA   YMCAUST,  Faridab...</td>\n",
       "      <td>NaN</td>\n",
       "      <td>[Education Details ,  MCA   YMCAUST,  Faridaba...</td>\n",
       "    </tr>\n",
       "    <tr>\n",
       "      <th>...</th>\n",
       "      <td>...</td>\n",
       "      <td>...</td>\n",
       "      <td>...</td>\n",
       "      <td>...</td>\n",
       "    </tr>\n",
       "    <tr>\n",
       "      <th>3953</th>\n",
       "      <td>automobile</td>\n",
       "      <td>GENERAL LIABILITY CLAIM REPRESENTATIVE\\r\\nSumm...</td>\n",
       "      <td>NaN</td>\n",
       "      <td>[GENERAL LIABILITY CLAIM REPRESENTATIVE, Summa...</td>\n",
       "    </tr>\n",
       "    <tr>\n",
       "      <th>3954</th>\n",
       "      <td>automobile</td>\n",
       "      <td>AUTOMOBILE TRANSPORTER\\r\\nProfessional Summary...</td>\n",
       "      <td>NaN</td>\n",
       "      <td>[AUTOMOBILE TRANSPORTER, Professional Summary,...</td>\n",
       "    </tr>\n",
       "    <tr>\n",
       "      <th>3955</th>\n",
       "      <td>automobile</td>\n",
       "      <td>Highlights\\r\\n\\r\\nProg. Languages: C (5+ yrs),...</td>\n",
       "      <td>NaN</td>\n",
       "      <td>[Highlights, , Prog. Languages: C (5+ yrs), Py...</td>\n",
       "    </tr>\n",
       "    <tr>\n",
       "      <th>3956</th>\n",
       "      <td>automobile</td>\n",
       "      <td>CUSTOMER RELATIONS SPECIALIST\\r\\nSummary\\r\\n\\r...</td>\n",
       "      <td>NaN</td>\n",
       "      <td>[CUSTOMER RELATIONS SPECIALIST, Summary, , To ...</td>\n",
       "    </tr>\n",
       "    <tr>\n",
       "      <th>3957</th>\n",
       "      <td>automobile</td>\n",
       "      <td>SENIOR SPECIAL INVESTIGATOR\\r\\nSummary\\r\\n\\r\\n...</td>\n",
       "      <td>NaN</td>\n",
       "      <td>[SENIOR SPECIAL INVESTIGATOR, Summary, , To wo...</td>\n",
       "    </tr>\n",
       "  </tbody>\n",
       "</table>\n",
       "<p>3148 rows × 4 columns</p>\n",
       "</div>"
      ],
      "text/plain": [
       "          category                                             resume  \\\n",
       "0     data science  Skills * Programming Languages: Python (pandas...   \n",
       "1     data science  Education Details \\r\\nMay 2013 to May 2017 B.E...   \n",
       "2     data science  Areas of Interest Deep Learning, Control Syste...   \n",
       "3     data science  Skills â¢ R â¢ Python â¢ SAP HANA â¢ Table...   \n",
       "4     data science  Education Details \\r\\n MCA   YMCAUST,  Faridab...   \n",
       "...            ...                                                ...   \n",
       "3953    automobile  GENERAL LIABILITY CLAIM REPRESENTATIVE\\r\\nSumm...   \n",
       "3954    automobile  AUTOMOBILE TRANSPORTER\\r\\nProfessional Summary...   \n",
       "3955    automobile  Highlights\\r\\n\\r\\nProg. Languages: C (5+ yrs),...   \n",
       "3956    automobile  CUSTOMER RELATIONS SPECIALIST\\r\\nSummary\\r\\n\\r...   \n",
       "3957    automobile  SENIOR SPECIAL INVESTIGATOR\\r\\nSummary\\r\\n\\r\\n...   \n",
       "\n",
       "     job_title                               splitted_w_next_line  \n",
       "0          NaN  [Skills * Programming Languages: Python (panda...  \n",
       "1          NaN  [Education Details , May 2013 to May 2017 B.E ...  \n",
       "2          NaN  [Areas of Interest Deep Learning, Control Syst...  \n",
       "3          NaN  [Skills â¢ R â¢ Python â¢ SAP HANA â¢ Tabl...  \n",
       "4          NaN  [Education Details ,  MCA   YMCAUST,  Faridaba...  \n",
       "...        ...                                                ...  \n",
       "3953       NaN  [GENERAL LIABILITY CLAIM REPRESENTATIVE, Summa...  \n",
       "3954       NaN  [AUTOMOBILE TRANSPORTER, Professional Summary,...  \n",
       "3955       NaN  [Highlights, , Prog. Languages: C (5+ yrs), Py...  \n",
       "3956       NaN  [CUSTOMER RELATIONS SPECIALIST, Summary, , To ...  \n",
       "3957       NaN  [SENIOR SPECIAL INVESTIGATOR, Summary, , To wo...  \n",
       "\n",
       "[3148 rows x 4 columns]"
      ]
     },
     "execution_count": 73,
     "metadata": {},
     "output_type": "execute_result"
    }
   ],
   "source": [
    "df['splitted_w_next_line'] = df['resume'].str.split('\\r\\n')\n",
    "df"
   ]
  },
  {
   "cell_type": "code",
   "execution_count": 94,
   "metadata": {},
   "outputs": [],
   "source": [
    "def count_entity(x):\n",
    "    dic = {}\n",
    "    for elem in x:\n",
    "        text1 = ner(elem)\n",
    "        for word in text1.ents:\n",
    "            if word.label_ in dic.keys():\n",
    "                dic[word.label_] += 1\n",
    "            else:\n",
    "                dic[word.label_] = 1\n",
    "    return dic"
   ]
  },
  {
   "cell_type": "code",
   "execution_count": 97,
   "metadata": {},
   "outputs": [
    {
     "name": "stderr",
     "output_type": "stream",
     "text": [
      "100%|██████████████████████████████████████████████████████████████████████████████| 3148/3148 [17:13<00:00,  3.05it/s]\n"
     ]
    }
   ],
   "source": [
    "df['entity_dic'] = df['splitted_w_next_line'].progress_apply(count_entity)"
   ]
  },
  {
   "cell_type": "code",
   "execution_count": 98,
   "metadata": {},
   "outputs": [
    {
     "data": {
      "text/html": [
       "<div>\n",
       "<style scoped>\n",
       "    .dataframe tbody tr th:only-of-type {\n",
       "        vertical-align: middle;\n",
       "    }\n",
       "\n",
       "    .dataframe tbody tr th {\n",
       "        vertical-align: top;\n",
       "    }\n",
       "\n",
       "    .dataframe thead th {\n",
       "        text-align: right;\n",
       "    }\n",
       "</style>\n",
       "<table border=\"1\" class=\"dataframe\">\n",
       "  <thead>\n",
       "    <tr style=\"text-align: right;\">\n",
       "      <th></th>\n",
       "      <th>category</th>\n",
       "      <th>resume</th>\n",
       "      <th>job_title</th>\n",
       "      <th>splitted_w_next_line</th>\n",
       "      <th>entity_dic</th>\n",
       "    </tr>\n",
       "  </thead>\n",
       "  <tbody>\n",
       "    <tr>\n",
       "      <th>0</th>\n",
       "      <td>data science</td>\n",
       "      <td>Skills * Programming Languages: Python (pandas...</td>\n",
       "      <td>NaN</td>\n",
       "      <td>[Skills * Programming Languages: Python (panda...</td>\n",
       "      <td>{'NORP': 1, 'ORG': 41, 'PRODUCT': 1, 'PERSON':...</td>\n",
       "    </tr>\n",
       "    <tr>\n",
       "      <th>1</th>\n",
       "      <td>data science</td>\n",
       "      <td>Education Details \\r\\nMay 2013 to May 2017 B.E...</td>\n",
       "      <td>NaN</td>\n",
       "      <td>[Education Details , May 2013 to May 2017 B.E ...</td>\n",
       "      <td>{'DATE': 2, 'ORG': 6, 'GPE': 5, 'CARDINAL': 1,...</td>\n",
       "    </tr>\n",
       "    <tr>\n",
       "      <th>2</th>\n",
       "      <td>data science</td>\n",
       "      <td>Areas of Interest Deep Learning, Control Syste...</td>\n",
       "      <td>NaN</td>\n",
       "      <td>[Areas of Interest Deep Learning, Control Syst...</td>\n",
       "      <td>{'ORG': 18, 'GPE': 8, 'DATE': 5, 'PERSON': 4, ...</td>\n",
       "    </tr>\n",
       "    <tr>\n",
       "      <th>3</th>\n",
       "      <td>data science</td>\n",
       "      <td>Skills â¢ R â¢ Python â¢ SAP HANA â¢ Table...</td>\n",
       "      <td>NaN</td>\n",
       "      <td>[Skills â¢ R â¢ Python â¢ SAP HANA â¢ Tabl...</td>\n",
       "      <td>{'PERSON': 9, 'ORG': 64, 'DATE': 11, 'GPE': 7,...</td>\n",
       "    </tr>\n",
       "    <tr>\n",
       "      <th>4</th>\n",
       "      <td>data science</td>\n",
       "      <td>Education Details \\r\\n MCA   YMCAUST,  Faridab...</td>\n",
       "      <td>NaN</td>\n",
       "      <td>[Education Details ,  MCA   YMCAUST,  Faridaba...</td>\n",
       "      <td>{'ORG': 3, 'GPE': 4}</td>\n",
       "    </tr>\n",
       "    <tr>\n",
       "      <th>...</th>\n",
       "      <td>...</td>\n",
       "      <td>...</td>\n",
       "      <td>...</td>\n",
       "      <td>...</td>\n",
       "      <td>...</td>\n",
       "    </tr>\n",
       "    <tr>\n",
       "      <th>3953</th>\n",
       "      <td>automobile</td>\n",
       "      <td>GENERAL LIABILITY CLAIM REPRESENTATIVE\\r\\nSumm...</td>\n",
       "      <td>NaN</td>\n",
       "      <td>[GENERAL LIABILITY CLAIM REPRESENTATIVE, Summa...</td>\n",
       "      <td>{'DATE': 1, 'CARDINAL': 5, 'ORG': 10, 'MONEY': 1}</td>\n",
       "    </tr>\n",
       "    <tr>\n",
       "      <th>3954</th>\n",
       "      <td>automobile</td>\n",
       "      <td>AUTOMOBILE TRANSPORTER\\r\\nProfessional Summary...</td>\n",
       "      <td>NaN</td>\n",
       "      <td>[AUTOMOBILE TRANSPORTER, Professional Summary,...</td>\n",
       "      <td>{'DATE': 16, 'ORG': 13, 'CARDINAL': 4, 'GPE': ...</td>\n",
       "    </tr>\n",
       "    <tr>\n",
       "      <th>3955</th>\n",
       "      <td>automobile</td>\n",
       "      <td>Highlights\\r\\n\\r\\nProg. Languages: C (5+ yrs),...</td>\n",
       "      <td>NaN</td>\n",
       "      <td>[Highlights, , Prog. Languages: C (5+ yrs), Py...</td>\n",
       "      <td>{'DATE': 18, 'ORG': 67, 'CARDINAL': 2, 'PERSON...</td>\n",
       "    </tr>\n",
       "    <tr>\n",
       "      <th>3956</th>\n",
       "      <td>automobile</td>\n",
       "      <td>CUSTOMER RELATIONS SPECIALIST\\r\\nSummary\\r\\n\\r...</td>\n",
       "      <td>NaN</td>\n",
       "      <td>[CUSTOMER RELATIONS SPECIALIST, Summary, , To ...</td>\n",
       "      <td>{'ORG': 14, 'DATE': 13, 'PERSON': 2, 'TIME': 2...</td>\n",
       "    </tr>\n",
       "    <tr>\n",
       "      <th>3957</th>\n",
       "      <td>automobile</td>\n",
       "      <td>SENIOR SPECIAL INVESTIGATOR\\r\\nSummary\\r\\n\\r\\n...</td>\n",
       "      <td>NaN</td>\n",
       "      <td>[SENIOR SPECIAL INVESTIGATOR, Summary, , To wo...</td>\n",
       "      <td>{'ORG': 46, 'DATE': 18, 'CARDINAL': 6, 'GPE': ...</td>\n",
       "    </tr>\n",
       "  </tbody>\n",
       "</table>\n",
       "<p>3148 rows × 5 columns</p>\n",
       "</div>"
      ],
      "text/plain": [
       "          category                                             resume  \\\n",
       "0     data science  Skills * Programming Languages: Python (pandas...   \n",
       "1     data science  Education Details \\r\\nMay 2013 to May 2017 B.E...   \n",
       "2     data science  Areas of Interest Deep Learning, Control Syste...   \n",
       "3     data science  Skills â¢ R â¢ Python â¢ SAP HANA â¢ Table...   \n",
       "4     data science  Education Details \\r\\n MCA   YMCAUST,  Faridab...   \n",
       "...            ...                                                ...   \n",
       "3953    automobile  GENERAL LIABILITY CLAIM REPRESENTATIVE\\r\\nSumm...   \n",
       "3954    automobile  AUTOMOBILE TRANSPORTER\\r\\nProfessional Summary...   \n",
       "3955    automobile  Highlights\\r\\n\\r\\nProg. Languages: C (5+ yrs),...   \n",
       "3956    automobile  CUSTOMER RELATIONS SPECIALIST\\r\\nSummary\\r\\n\\r...   \n",
       "3957    automobile  SENIOR SPECIAL INVESTIGATOR\\r\\nSummary\\r\\n\\r\\n...   \n",
       "\n",
       "     job_title                               splitted_w_next_line  \\\n",
       "0          NaN  [Skills * Programming Languages: Python (panda...   \n",
       "1          NaN  [Education Details , May 2013 to May 2017 B.E ...   \n",
       "2          NaN  [Areas of Interest Deep Learning, Control Syst...   \n",
       "3          NaN  [Skills â¢ R â¢ Python â¢ SAP HANA â¢ Tabl...   \n",
       "4          NaN  [Education Details ,  MCA   YMCAUST,  Faridaba...   \n",
       "...        ...                                                ...   \n",
       "3953       NaN  [GENERAL LIABILITY CLAIM REPRESENTATIVE, Summa...   \n",
       "3954       NaN  [AUTOMOBILE TRANSPORTER, Professional Summary,...   \n",
       "3955       NaN  [Highlights, , Prog. Languages: C (5+ yrs), Py...   \n",
       "3956       NaN  [CUSTOMER RELATIONS SPECIALIST, Summary, , To ...   \n",
       "3957       NaN  [SENIOR SPECIAL INVESTIGATOR, Summary, , To wo...   \n",
       "\n",
       "                                             entity_dic  \n",
       "0     {'NORP': 1, 'ORG': 41, 'PRODUCT': 1, 'PERSON':...  \n",
       "1     {'DATE': 2, 'ORG': 6, 'GPE': 5, 'CARDINAL': 1,...  \n",
       "2     {'ORG': 18, 'GPE': 8, 'DATE': 5, 'PERSON': 4, ...  \n",
       "3     {'PERSON': 9, 'ORG': 64, 'DATE': 11, 'GPE': 7,...  \n",
       "4                                  {'ORG': 3, 'GPE': 4}  \n",
       "...                                                 ...  \n",
       "3953  {'DATE': 1, 'CARDINAL': 5, 'ORG': 10, 'MONEY': 1}  \n",
       "3954  {'DATE': 16, 'ORG': 13, 'CARDINAL': 4, 'GPE': ...  \n",
       "3955  {'DATE': 18, 'ORG': 67, 'CARDINAL': 2, 'PERSON...  \n",
       "3956  {'ORG': 14, 'DATE': 13, 'PERSON': 2, 'TIME': 2...  \n",
       "3957  {'ORG': 46, 'DATE': 18, 'CARDINAL': 6, 'GPE': ...  \n",
       "\n",
       "[3148 rows x 5 columns]"
      ]
     },
     "execution_count": 98,
     "metadata": {},
     "output_type": "execute_result"
    }
   ],
   "source": [
    "df"
   ]
  },
  {
   "cell_type": "code",
   "execution_count": 100,
   "metadata": {},
   "outputs": [
    {
     "name": "stderr",
     "output_type": "stream",
     "text": [
      "100%|██████████████████████████████████████████████████████████████████████████| 3148/3148 [00:00<00:00, 314822.82it/s]\n"
     ]
    }
   ],
   "source": [
    "dic = {}\n",
    "for row in tqdm(df['entity_dic']):\n",
    "    for key in row:\n",
    "        if key in dic.keys():\n",
    "            dic[key] += row[key]\n",
    "        else:\n",
    "            dic[key] = row[key]\n",
    "    "
   ]
  },
  {
   "cell_type": "code",
   "execution_count": 112,
   "metadata": {},
   "outputs": [],
   "source": [
    "freq_ent = pd.DataFrame(data = dic, index=[0]).T.reset_index().rename(columns = {'index':'entity_type', 0:'frequency'})\n",
    "freq_ent['entity_detail'] = freq_ent['entity_type'].apply(lambda x: spacy.explain(x))"
   ]
  },
  {
   "cell_type": "code",
   "execution_count": 121,
   "metadata": {},
   "outputs": [
    {
     "data": {
      "text/html": [
       "<div>\n",
       "<style scoped>\n",
       "    .dataframe tbody tr th:only-of-type {\n",
       "        vertical-align: middle;\n",
       "    }\n",
       "\n",
       "    .dataframe tbody tr th {\n",
       "        vertical-align: top;\n",
       "    }\n",
       "\n",
       "    .dataframe thead th {\n",
       "        text-align: right;\n",
       "    }\n",
       "</style>\n",
       "<table border=\"1\" class=\"dataframe\">\n",
       "  <thead>\n",
       "    <tr style=\"text-align: right;\">\n",
       "      <th></th>\n",
       "      <th>entity_type</th>\n",
       "      <th>entity_detail</th>\n",
       "      <th>frequency</th>\n",
       "    </tr>\n",
       "  </thead>\n",
       "  <tbody>\n",
       "    <tr>\n",
       "      <th>1</th>\n",
       "      <td>ORG</td>\n",
       "      <td>Companies, agencies, institutions, etc.</td>\n",
       "      <td>96501</td>\n",
       "    </tr>\n",
       "    <tr>\n",
       "      <th>4</th>\n",
       "      <td>DATE</td>\n",
       "      <td>Absolute or relative dates or periods</td>\n",
       "      <td>33545</td>\n",
       "    </tr>\n",
       "    <tr>\n",
       "      <th>6</th>\n",
       "      <td>CARDINAL</td>\n",
       "      <td>Numerals that do not fall under another type</td>\n",
       "      <td>19608</td>\n",
       "    </tr>\n",
       "    <tr>\n",
       "      <th>5</th>\n",
       "      <td>GPE</td>\n",
       "      <td>Countries, cities, states</td>\n",
       "      <td>15293</td>\n",
       "    </tr>\n",
       "    <tr>\n",
       "      <th>3</th>\n",
       "      <td>PERSON</td>\n",
       "      <td>People, including fictional</td>\n",
       "      <td>8204</td>\n",
       "    </tr>\n",
       "    <tr>\n",
       "      <th>2</th>\n",
       "      <td>PRODUCT</td>\n",
       "      <td>Objects, vehicles, foods, etc. (not services)</td>\n",
       "      <td>3274</td>\n",
       "    </tr>\n",
       "    <tr>\n",
       "      <th>16</th>\n",
       "      <td>MONEY</td>\n",
       "      <td>Monetary values, including unit</td>\n",
       "      <td>2583</td>\n",
       "    </tr>\n",
       "    <tr>\n",
       "      <th>10</th>\n",
       "      <td>PERCENT</td>\n",
       "      <td>Percentage, including \"%\"</td>\n",
       "      <td>2577</td>\n",
       "    </tr>\n",
       "    <tr>\n",
       "      <th>0</th>\n",
       "      <td>NORP</td>\n",
       "      <td>Nationalities or religious or political groups</td>\n",
       "      <td>1854</td>\n",
       "    </tr>\n",
       "    <tr>\n",
       "      <th>11</th>\n",
       "      <td>ORDINAL</td>\n",
       "      <td>\"first\", \"second\", etc.</td>\n",
       "      <td>1398</td>\n",
       "    </tr>\n",
       "    <tr>\n",
       "      <th>13</th>\n",
       "      <td>WORK_OF_ART</td>\n",
       "      <td>Titles of books, songs, etc.</td>\n",
       "      <td>1177</td>\n",
       "    </tr>\n",
       "    <tr>\n",
       "      <th>9</th>\n",
       "      <td>LANGUAGE</td>\n",
       "      <td>Any named language</td>\n",
       "      <td>1065</td>\n",
       "    </tr>\n",
       "    <tr>\n",
       "      <th>7</th>\n",
       "      <td>TIME</td>\n",
       "      <td>Times smaller than a day</td>\n",
       "      <td>999</td>\n",
       "    </tr>\n",
       "    <tr>\n",
       "      <th>15</th>\n",
       "      <td>LOC</td>\n",
       "      <td>Non-GPE locations, mountain ranges, bodies of ...</td>\n",
       "      <td>935</td>\n",
       "    </tr>\n",
       "    <tr>\n",
       "      <th>8</th>\n",
       "      <td>FAC</td>\n",
       "      <td>Buildings, airports, highways, bridges, etc.</td>\n",
       "      <td>836</td>\n",
       "    </tr>\n",
       "    <tr>\n",
       "      <th>12</th>\n",
       "      <td>LAW</td>\n",
       "      <td>Named documents made into laws.</td>\n",
       "      <td>402</td>\n",
       "    </tr>\n",
       "    <tr>\n",
       "      <th>14</th>\n",
       "      <td>EVENT</td>\n",
       "      <td>Named hurricanes, battles, wars, sports events...</td>\n",
       "      <td>358</td>\n",
       "    </tr>\n",
       "    <tr>\n",
       "      <th>17</th>\n",
       "      <td>QUANTITY</td>\n",
       "      <td>Measurements, as of weight or distance</td>\n",
       "      <td>263</td>\n",
       "    </tr>\n",
       "  </tbody>\n",
       "</table>\n",
       "</div>"
      ],
      "text/plain": [
       "    entity_type                                      entity_detail  frequency\n",
       "1           ORG            Companies, agencies, institutions, etc.      96501\n",
       "4          DATE              Absolute or relative dates or periods      33545\n",
       "6      CARDINAL       Numerals that do not fall under another type      19608\n",
       "5           GPE                          Countries, cities, states      15293\n",
       "3        PERSON                        People, including fictional       8204\n",
       "2       PRODUCT      Objects, vehicles, foods, etc. (not services)       3274\n",
       "16        MONEY                    Monetary values, including unit       2583\n",
       "10      PERCENT                          Percentage, including \"%\"       2577\n",
       "0          NORP     Nationalities or religious or political groups       1854\n",
       "11      ORDINAL                            \"first\", \"second\", etc.       1398\n",
       "13  WORK_OF_ART                       Titles of books, songs, etc.       1177\n",
       "9      LANGUAGE                                 Any named language       1065\n",
       "7          TIME                           Times smaller than a day        999\n",
       "15          LOC  Non-GPE locations, mountain ranges, bodies of ...        935\n",
       "8           FAC       Buildings, airports, highways, bridges, etc.        836\n",
       "12          LAW                    Named documents made into laws.        402\n",
       "14        EVENT  Named hurricanes, battles, wars, sports events...        358\n",
       "17     QUANTITY             Measurements, as of weight or distance        263"
      ]
     },
     "execution_count": 121,
     "metadata": {},
     "output_type": "execute_result"
    }
   ],
   "source": [
    "freq_ent.sort_values('frequency', ascending=False)[['entity_type','entity_detail','frequency']]"
   ]
  },
  {
   "cell_type": "code",
   "execution_count": 118,
   "metadata": {},
   "outputs": [
    {
     "data": {
      "text/plain": [
       "(array([ 0,  1,  2,  3,  4,  5,  6,  7,  8,  9, 10, 11, 12, 13, 14, 15, 16,\n",
       "        17]),\n",
       " [Text(0, 0, 'ORG'),\n",
       "  Text(1, 0, 'DATE'),\n",
       "  Text(2, 0, 'CARDINAL'),\n",
       "  Text(3, 0, 'GPE'),\n",
       "  Text(4, 0, 'PERSON'),\n",
       "  Text(5, 0, 'PRODUCT'),\n",
       "  Text(6, 0, 'MONEY'),\n",
       "  Text(7, 0, 'PERCENT'),\n",
       "  Text(8, 0, 'NORP'),\n",
       "  Text(9, 0, 'ORDINAL'),\n",
       "  Text(10, 0, 'WORK_OF_ART'),\n",
       "  Text(11, 0, 'LANGUAGE'),\n",
       "  Text(12, 0, 'TIME'),\n",
       "  Text(13, 0, 'LOC'),\n",
       "  Text(14, 0, 'FAC'),\n",
       "  Text(15, 0, 'LAW'),\n",
       "  Text(16, 0, 'EVENT'),\n",
       "  Text(17, 0, 'QUANTITY')])"
      ]
     },
     "execution_count": 118,
     "metadata": {},
     "output_type": "execute_result"
    },
    {
     "data": {
      "image/png": "[encoded data removed]",
      "text/plain": [
       "<Figure size 1224x504 with 1 Axes>"
      ]
     },
     "metadata": {
      "needs_background": "light"
     },
     "output_type": "display_data"
    }
   ],
   "source": [
    "freq_ent.sort_values('frequency', ascending=False)[['entity_type', 'frequency']].set_index('entity_type').plot.bar()\n",
    "plt.xticks(rotation=45)"
   ]
  },
  {
   "cell_type": "code",
   "execution_count": 124,
   "metadata": {},
   "outputs": [
    {
     "data": {
      "text/plain": [
       "190872"
      ]
     },
     "execution_count": 124,
     "metadata": {},
     "output_type": "execute_result"
    }
   ],
   "source": [
    "freq_ent.frequency.sum()"
   ]
  },
  {
   "cell_type": "code",
   "execution_count": null,
   "metadata": {},
   "outputs": [],
   "source": []
  },
  {
   "cell_type": "code",
   "execution_count": null,
   "metadata": {},
   "outputs": [],
   "source": []
  },
  {
   "cell_type": "code",
   "execution_count": null,
   "metadata": {},
   "outputs": [],
   "source": []
  },
  {
   "cell_type": "code",
   "execution_count": null,
   "metadata": {},
   "outputs": [],
   "source": []
  },
  {
   "cell_type": "code",
   "execution_count": null,
   "metadata": {},
   "outputs": [],
   "source": []
  },
  {
   "cell_type": "code",
   "execution_count": null,
   "metadata": {},
   "outputs": [],
   "source": []
  },
  {
   "cell_type": "code",
   "execution_count": null,
   "metadata": {},
   "outputs": [],
   "source": []
  },
  {
   "cell_type": "code",
   "execution_count": null,
   "metadata": {},
   "outputs": [],
   "source": []
  },
  {
   "cell_type": "code",
   "execution_count": null,
   "metadata": {},
   "outputs": [],
   "source": []
  },
  {
   "cell_type": "code",
   "execution_count": null,
   "metadata": {},
   "outputs": [],
   "source": []
  }
 ],
 "metadata": {
  "kernelspec": {
   "display_name": "Python 3",
   "language": "python",
   "name": "python3"
  },
  "language_info": {
   "codemirror_mode": {
    "name": "ipython",
    "version": 3
   },
   "file_extension": ".py",
   "mimetype": "text/x-python",
   "name": "python",
   "nbconvert_exporter": "python",
   "pygments_lexer": "ipython3",
   "version": "3.8.3"
  }
 },
 "nbformat": 4,
 "nbformat_minor": 4
}
